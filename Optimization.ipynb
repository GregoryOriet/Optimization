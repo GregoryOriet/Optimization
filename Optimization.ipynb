{
 "cells": [
  {
   "cell_type": "markdown",
   "id": "3e546c48-fa45-474c-a84a-78699655b26b",
   "metadata": {},
   "source": [
    "# Optimization in Python/Jupyter"
   ]
  },
  {
   "cell_type": "markdown",
   "id": "7e8c7929-466c-4b73-88ba-bce88f433935",
   "metadata": {},
   "source": [
    "## Table of Contents\n",
    "1. [Introduction](#introduction)\n",
    "2. [Profit Maximization (crop mix)](#crop_mix)\n",
    "3. [Profit Maximization (production)](#production)\n",
    "4. [Cost Minimization (supply cost)](#supply_cost)\n",
    "5. [Conclusion](#conclusion)"
   ]
  },
  {
   "cell_type": "markdown",
   "id": "89c0e6fb-9b7c-4f23-ac90-1ebd363c4be0",
   "metadata": {},
   "source": [
    "## Introduction <a name=\"introduction\"></a>"
   ]
  },
  {
   "cell_type": "markdown",
   "id": "139906db-97fc-408f-862f-8b3dd3e2794b",
   "metadata": {},
   "source": [
    "Python has a variety of libraries available for assiting an analyst with optimization. In this notebook we will explore linear programming with the pyomo library and the glpk solver. "
   ]
  },
  {
   "cell_type": "markdown",
   "id": "8e020e1a-ece0-4f52-a342-9136a08e3b04",
   "metadata": {},
   "source": [
    "## Profit Maximization (crop mix) <a name=\"crop_mix\"></a>\n",
    "Problem Source: Mathematical Applications For The Management, Life and Social Sciences (eighth edition, authors Harshbarger and Reynolds) - page 293. The solution was not given in python. The book uses a graphical method and the simplex method to solve. "
   ]
  },
  {
   "cell_type": "code",
   "execution_count": 1,
   "id": "488820f7-efae-44fd-b163-028a13c96d13",
   "metadata": {},
   "outputs": [],
   "source": [
    "import numpy as np\n",
    "import matplotlib.pyplot as plt\n",
    "import seaborn as sns\n",
    "import pyomo.environ as pe\n",
    "import pyomo.opt as po\n",
    "import pandas as pd"
   ]
  },
  {
   "cell_type": "markdown",
   "id": "ffa6e6e3-61b3-49b2-a91f-f4babd6232a5",
   "metadata": {},
   "source": [
    "Given: <br>\n",
    "1. 6000 acres of land available\n",
    "2. Each acre of corn requires 9 gallons of fertilizer\n",
    "3. Each acre of soybeans requires 3 gallons of fertilizer\n",
    "4. Each acre of corn requires 0.75 hours of labor to harvest\n",
    "5. Each acre of soybeans requires 1 hour of labor to harvest\n",
    "6. There is at most 40500 gallons of fertilizer available\n",
    "7. There is at most 5250 hours of labor available\n",
    "8. The profit for corn is \\$60 per acre \n",
    "9. The profit for soybeans is \\$40 per acre"
   ]
  },
  {
   "cell_type": "markdown",
   "id": "686a5b43-2d2d-4209-b4e7-578f123f330a",
   "metadata": {},
   "source": [
    "From given we get the following system of inequalities:\n",
    "1. $$x + y \\le 6000$$\n",
    "2. $$9x + 3y \\le 40500$$\n",
    "3. $$0.75x + y \\le 5250$$"
   ]
  },
  {
   "cell_type": "markdown",
   "id": "f035c7af-3a41-4c00-9e78-b17d069bf80f",
   "metadata": {},
   "source": [
    "Profit Function:\n",
    "$$P(x, y) = 60x + 40y$$"
   ]
  },
  {
   "cell_type": "code",
   "execution_count": 2,
   "id": "7bc27c34-10e0-45a3-b101-688cb6abed3a",
   "metadata": {},
   "outputs": [],
   "source": [
    "model = pe.ConcreteModel()\n",
    "\n",
    "#declare decision variables\n",
    "model.x = pe.Var(domain = pe.NonNegativeReals)\n",
    "model.y = pe.Var(domain = pe.NonNegativeReals)\n",
    "\n",
    "#declare objective\n",
    "model.profit = pe.Objective(expr = 60 * model.x + 40 * model.y, sense = pe.maximize)\n",
    "\n",
    "#declare constraints\n",
    "model.acres = pe.Constraint(expr = model.x + model.y <= 6000)\n",
    "model.fertilizer = pe.Constraint(expr = 9 * model.x + 3 * model.y <= 40500)\n",
    "model.hours = pe.Constraint(expr = 0.75 * model.x + model.y <= 5250)\n",
    "\n",
    "#solve\n",
    "opt = po.SolverFactory('glpk')\n",
    "opt.solve(model);"
   ]
  },
  {
   "cell_type": "code",
   "execution_count": 3,
   "id": "2b649822-7772-436b-bfce-50aaff2fd769",
   "metadata": {},
   "outputs": [
    {
     "name": "stdout",
     "output_type": "stream",
     "text": [
      "Maximized profit =  315000.0\n",
      "Optimized acres of corn =  3750.0\n",
      "Optimized acres of soybeans =  2250.0\n"
     ]
    }
   ],
   "source": [
    "print(\"Maximized profit = \", model.profit())\n",
    "print(\"Optimized acres of corn = \", model.x())\n",
    "print(\"Optimized acres of soybeans = \", model.y())"
   ]
  },
  {
   "cell_type": "markdown",
   "id": "bed0da56-c76d-44c4-a2dc-6d517a485d0d",
   "metadata": {},
   "source": [
    "## Profit Maxization (production) <a name=\"production\"></a>\n",
    "Problem Source: Mathematical Applications For The Management, Life and Social Sciences (eighth edition, authors Harshbarger and Reynolds) - page 345 (#29). The solution was not given in python. The book uses the simplex method to solve. "
   ]
  },
  {
   "cell_type": "markdown",
   "id": "3cbefaf9-d828-41e7-848d-a88f90afe555",
   "metadata": {},
   "source": [
    "Given:\n",
    "1. Each pound of all-beef hot dogs requires 0.75 lb of beef and 0.2 lb of spices.\n",
    "2. Each pound of regular hot dogs requires 0.18 lb of beef and 0.3 lbs of pork and 0.2 lb of spices\n",
    "3. Suppliers can deliver at most 1020 lb of beef\n",
    "4. Suppliers can deliver at most 600 lb of pork\n",
    "5. Suppliers can deliver at least 500 lb of spices\n",
    "6. Profit is \\$0.6 on each pound of all-beef hot dogs\n",
    "7. Profit is \\$0.4 on each pound of regular hot dogs"
   ]
  },
  {
   "cell_type": "markdown",
   "id": "ac45d9e5-806c-420a-917d-2bf77d53245e",
   "metadata": {},
   "source": [
    "From given we get the following system of inequalities:\n",
    "1. $$0.75x + 0.18y \\le 1020$$\n",
    "2. $$0.2x + 0.2y \\ge 500$$\n",
    "3. $$0.3y \\le 600$$"
   ]
  },
  {
   "cell_type": "markdown",
   "id": "538531d9-6497-4928-89bb-48996a366d74",
   "metadata": {},
   "source": [
    "Profit Function:\n",
    "$$P(x,y) = 0.6x + 0.4y$$"
   ]
  },
  {
   "cell_type": "code",
   "execution_count": 4,
   "id": "078607f5-9785-40f1-8185-57b0cae9f257",
   "metadata": {},
   "outputs": [],
   "source": [
    "model = pe.ConcreteModel()\n",
    "\n",
    "#declare decision variables\n",
    "model.x = pe.Var(domain = pe.NonNegativeReals)\n",
    "model.y = pe.Var(domain = pe.NonNegativeReals)\n",
    "\n",
    "#declare objective\n",
    "model.profit = pe.Objective(expr = 0.6 * model.x + 0.4 * model.y, sense = pe.maximize)\n",
    "\n",
    "#declare constraints\n",
    "model.beef = pe.Constraint(expr = 0.75 * model.x + 0.18 * model.y <= 1020)\n",
    "model.spices = pe.Constraint(expr = 0.2 * model.x + 0.2 * model.y >= 500)\n",
    "model.pork = pe.Constraint(expr = 0.3 * model.y <= 600)\n",
    "\n",
    "#solve\n",
    "opt = po.SolverFactory('glpk')\n",
    "opt.solve(model);"
   ]
  },
  {
   "cell_type": "code",
   "execution_count": 5,
   "id": "56e0ad00-70ba-4ec9-9d0b-f2e72ce9b425",
   "metadata": {},
   "outputs": [
    {
     "name": "stdout",
     "output_type": "stream",
     "text": [
      "Maximized profit =  1328.0\n",
      "Optimized pounds of beef produced =  880.0\n",
      "Optimized pounds of regular produced =  2000.0\n"
     ]
    }
   ],
   "source": [
    "print(\"Maximized profit = \", model.profit())\n",
    "print(\"Optimized pounds of beef produced = \", model.x())\n",
    "print(\"Optimized pounds of regular produced = \", model.y())"
   ]
  },
  {
   "cell_type": "markdown",
   "id": "58455243-0fb2-48b9-9050-4f0542dbdf7d",
   "metadata": {},
   "source": [
    "## Cost Minimization (supply cost)<a name=\"supply_cost\"></a>\n",
    "Problem Source: Mathematical Applications For The Management, Life and Social Sciences (eighth edition, authors Harshbarger and Reynolds) - page 336 (#31). The solution was not given in python. The book uses the simplex method to solve. "
   ]
  },
  {
   "cell_type": "markdown",
   "id": "5015253c-cd6d-4155-9b5f-7135b2f57afd",
   "metadata": {},
   "source": [
    "Given:\n",
    "1. Need at least 230 reams of recycled paper\n",
    "2. Need at least 240 reams of satin white paper\n",
    "3. Need at least 210 reams of glossy white paper\n",
    "4. Addition information:"
   ]
  },
  {
   "cell_type": "code",
   "execution_count": 6,
   "id": "32aac8aa-4179-40ab-ae4a-a07c25758c39",
   "metadata": {},
   "outputs": [
    {
     "data": {
      "text/html": [
       "<div>\n",
       "<style scoped>\n",
       "    .dataframe tbody tr th:only-of-type {\n",
       "        vertical-align: middle;\n",
       "    }\n",
       "\n",
       "    .dataframe tbody tr th {\n",
       "        vertical-align: top;\n",
       "    }\n",
       "\n",
       "    .dataframe thead th {\n",
       "        text-align: right;\n",
       "    }\n",
       "</style>\n",
       "<table border=\"1\" class=\"dataframe\">\n",
       "  <thead>\n",
       "    <tr style=\"text-align: right;\">\n",
       "      <th></th>\n",
       "      <th>Recycled</th>\n",
       "      <th>Satin White</th>\n",
       "      <th>Glossy White</th>\n",
       "      <th>Package Cost</th>\n",
       "    </tr>\n",
       "  </thead>\n",
       "  <tbody>\n",
       "    <tr>\n",
       "      <th>Georgia Package</th>\n",
       "      <td>10</td>\n",
       "      <td>5</td>\n",
       "      <td>6</td>\n",
       "      <td>120</td>\n",
       "    </tr>\n",
       "    <tr>\n",
       "      <th>Union Package</th>\n",
       "      <td>5</td>\n",
       "      <td>8</td>\n",
       "      <td>6</td>\n",
       "      <td>140</td>\n",
       "    </tr>\n",
       "    <tr>\n",
       "      <th>Pacific Package</th>\n",
       "      <td>6</td>\n",
       "      <td>6</td>\n",
       "      <td>6</td>\n",
       "      <td>126</td>\n",
       "    </tr>\n",
       "  </tbody>\n",
       "</table>\n",
       "</div>"
      ],
      "text/plain": [
       "                 Recycled  Satin White  Glossy White  Package Cost\n",
       "Georgia Package        10            5             6           120\n",
       "Union Package           5            8             6           140\n",
       "Pacific Package         6            6             6           126"
      ]
     },
     "execution_count": 6,
     "metadata": {},
     "output_type": "execute_result"
    }
   ],
   "source": [
    "details = {\n",
    "    'Recycled':[10, 5, 6],\n",
    "    'Satin White':[5, 8, 6],\n",
    "    'Glossy White': [6, 6, 6],\n",
    "    'Package Cost': [120, 140, 126]\n",
    "}\n",
    "data = pd.DataFrame(data = details, index = ['Georgia Package', 'Union Package', 'Pacific Package'])\n",
    "data"
   ]
  },
  {
   "cell_type": "markdown",
   "id": "4a877e87-3e4c-4738-9116-bfc1b5fd6f18",
   "metadata": {},
   "source": [
    "From given we get the following system of inequalities:\n",
    "1. $$10x + 5y + 6z \\ge 230$$\n",
    "2. $$5x + 8y + 6z \\ge 240$$\n",
    "3. $$6x + 6y + 6z \\ge 210$$"
   ]
  },
  {
   "cell_type": "markdown",
   "id": "a4f0ac30-1027-4079-b0ba-75adbc6e33a1",
   "metadata": {},
   "source": [
    "Cost function:\n",
    "$$C(x, y, z) = 120x + 140y + 126z$$"
   ]
  },
  {
   "cell_type": "code",
   "execution_count": 7,
   "id": "cec1830d-5e7d-4df3-b299-c4c34f107a2b",
   "metadata": {},
   "outputs": [],
   "source": [
    "model = pe.ConcreteModel()\n",
    "\n",
    "#declare decision variables\n",
    "model.x = pe.Var(domain = pe.NonNegativeReals)\n",
    "model.y = pe.Var(domain = pe.NonNegativeReals)\n",
    "model.z = pe.Var(domain = pe.NonNegativeReals)\n",
    "\n",
    "#declare objective\n",
    "model.cost = pe.Objective(expr = 120 * model.x + 140 * model.y + 126 * model.z, sense = pe.minimize)\n",
    "\n",
    "#declare constraints\n",
    "model.output_a = pe.Constraint(expr = 10 * model.x + 5 * model.y + 6 * model.z >= 230)\n",
    "model.output_b = pe.Constraint(expr = 5 * model.x + 8 * model.y + 6 * model.z >= 240)\n",
    "model.restrict = pe.Constraint(expr = 6 * model.x + 6 * model.y + 6 * model.z >= 210)\n",
    "\n",
    "#solve\n",
    "opt = po.SolverFactory('glpk')\n",
    "opt.solve(model);"
   ]
  },
  {
   "cell_type": "code",
   "execution_count": 8,
   "id": "89b521f7-1cce-450f-ac68-c75f8cda4b11",
   "metadata": {},
   "outputs": [
    {
     "name": "stdout",
     "output_type": "stream",
     "text": [
      "Minimized cost =  4630.0\n",
      "Optimized reams of recycled purchased =  10.0\n",
      "Optimized reams of satin white purchased =  20.0\n",
      "Optimized reams of glossy white purchased =  5.0\n"
     ]
    }
   ],
   "source": [
    "print(\"Minimized cost = \", model.cost())\n",
    "print(\"Optimized reams of recycled purchased = \", model.x())\n",
    "print(\"Optimized reams of satin white purchased = \", model.y())\n",
    "print(\"Optimized reams of glossy white purchased = \", model.z())"
   ]
  },
  {
   "cell_type": "markdown",
   "id": "e78a6cf5-5160-48eb-bf14-86697be1d3ae",
   "metadata": {},
   "source": [
    "# Conclusion <a name=\"conclusion\"></a>\n",
    "Python has a wide variety of useful libraries available such as pyomo to help solve a variety of optimization problems. "
   ]
  }
 ],
 "metadata": {
  "kernelspec": {
   "display_name": "Python 3",
   "language": "python",
   "name": "python3"
  },
  "language_info": {
   "codemirror_mode": {
    "name": "ipython",
    "version": 3
   },
   "file_extension": ".py",
   "mimetype": "text/x-python",
   "name": "python",
   "nbconvert_exporter": "python",
   "pygments_lexer": "ipython3",
   "version": "3.8.8"
  }
 },
 "nbformat": 4,
 "nbformat_minor": 5
}
